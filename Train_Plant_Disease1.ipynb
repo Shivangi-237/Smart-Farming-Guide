{
 "cells": [
  {
   "cell_type": "code",
   "execution_count": 2,
   "id": "742006bd-dcaa-4b05-9651-d8b6e7a137b6",
   "metadata": {},
   "outputs": [],
   "source": [
    "##tensorflow - A powerful library for machine learning and deep learning,Building and training neural networks\n",
    "##matplotlib - Plotting graphs, Visualizing training history , Displaying images.\n",
    "##pandas - A library for data manipulation and analysis\n",
    "## seaborn - A library built on top of Matplotlib for statistical data visualization."
   ]
  },
  {
   "cell_type": "code",
   "execution_count": 3,
   "id": "52ebb87f-36f9-4c65-95cd-8652af077c4d",
   "metadata": {},
   "outputs": [],
   "source": [
    "import tensorflow as tf\n",
    "import matplotlib.pyplot as plt\n",
    "import pandas as pd\n",
    "import seaborn as sns"
   ]
  },
  {
   "cell_type": "code",
   "execution_count": 4,
   "id": "fdcd31be-a831-443f-9af7-1ef9d4d6a347",
   "metadata": {},
   "outputs": [
    {
     "name": "stdout",
     "output_type": "stream",
     "text": [
      "Found 36998 files belonging to 20 classes.\n"
     ]
    }
   ],
   "source": [
    "training_set = tf.keras.utils.image_dataset_from_directory(\n",
    "    'train',\n",
    "    labels=\"inferred\",\n",
    "    label_mode=\"categorical\",\n",
    "    class_names=None, \n",
    "    color_mode=\"rgb\",\n",
    "    batch_size=32, ## (no of images in 1 batch)\n",
    "    image_size=(128, 128),\n",
    "    shuffle=True,   ## avoid biasness(random order)\n",
    "    seed=None,  ## same sequence\n",
    "    validation_split=None,  ##entire dataset is used for training\n",
    "    subset=None,   \n",
    "    interpolation=\"bilinear\",  ## method to resize images\n",
    "    follow_links=False,\n",
    "    crop_to_aspect_ratio=False,   ##image is resized directly to the target size\n",
    ")"
   ]
  },
  {
   "cell_type": "code",
   "execution_count": 5,
   "id": "4aab20e7-60ae-4eb0-8095-e84263f27c7a",
   "metadata": {},
   "outputs": [
    {
     "name": "stdout",
     "output_type": "stream",
     "text": [
      "Found 9248 files belonging to 20 classes.\n"
     ]
    }
   ],
   "source": [
    "validation_set = tf.keras.utils.image_dataset_from_directory(\n",
    "    'valid',\n",
    "    labels=\"inferred\",\n",
    "    label_mode=\"categorical\",\n",
    "    class_names=None,\n",
    "    color_mode=\"rgb\",\n",
    "    batch_size=32,\n",
    "    image_size=(128, 128),\n",
    "    shuffle=True,\n",
    "    seed=None,\n",
    "    validation_split=None,\n",
    "    subset=None,\n",
    "    interpolation=\"bilinear\",\n",
    "    follow_links=False,\n",
    "    crop_to_aspect_ratio=False,\n",
    ")"
   ]
  },
  {
   "cell_type": "code",
   "execution_count": 6,
   "id": "cdc6435c-8537-46fe-8d58-e6fa53871ab8",
   "metadata": {},
   "outputs": [
    {
     "data": {
      "text/plain": [
       "<_BatchDataset element_spec=(TensorSpec(shape=(None, 128, 128, 3), dtype=tf.float32, name=None), TensorSpec(shape=(None, 20), dtype=tf.float32, name=None))>"
      ]
     },
     "execution_count": 6,
     "metadata": {},
     "output_type": "execute_result"
    }
   ],
   "source": [
    "training_set"
   ]
  },
  {
   "cell_type": "code",
   "execution_count": 7,
   "id": "e243c19c-45b1-48aa-8482-ba6980f79b8d",
   "metadata": {},
   "outputs": [],
   "source": [
    "##x is a tensor containing a batch of images.\n",
    "## y is a tensor containing the corresponding labels."
   ]
  },
  {
   "cell_type": "code",
   "execution_count": 8,
   "id": "bdfb4a42-073d-4d3f-a852-1c4c453c164a",
   "metadata": {},
   "outputs": [
    {
     "name": "stdout",
     "output_type": "stream",
     "text": [
      "tf.Tensor(\n",
      "[[[[  0.     0.     0.  ]\n",
      "   [  0.     0.     0.  ]\n",
      "   [  0.     0.     0.  ]\n",
      "   ...\n",
      "   [  0.     0.     0.  ]\n",
      "   [  0.     0.     0.  ]\n",
      "   [  0.     0.     0.  ]]\n",
      "\n",
      "  [[  0.     0.     0.  ]\n",
      "   [  0.     0.     0.  ]\n",
      "   [  0.     0.     0.  ]\n",
      "   ...\n",
      "   [  0.     0.     0.  ]\n",
      "   [  0.     0.     0.  ]\n",
      "   [  0.     0.     0.  ]]\n",
      "\n",
      "  [[  0.     0.     0.  ]\n",
      "   [  0.     0.     0.  ]\n",
      "   [  0.     0.     0.  ]\n",
      "   ...\n",
      "   [  0.     0.     0.  ]\n",
      "   [  0.     0.     0.  ]\n",
      "   [  0.     0.     0.  ]]\n",
      "\n",
      "  ...\n",
      "\n",
      "  [[  0.     0.     0.  ]\n",
      "   [  0.     0.     0.  ]\n",
      "   [  0.     0.     0.  ]\n",
      "   ...\n",
      "   [  0.     0.     0.  ]\n",
      "   [  0.     0.     0.  ]\n",
      "   [  0.     0.     0.  ]]\n",
      "\n",
      "  [[  0.     0.     0.  ]\n",
      "   [  0.     0.     0.  ]\n",
      "   [  0.     0.     0.  ]\n",
      "   ...\n",
      "   [  0.     0.     0.  ]\n",
      "   [  0.     0.     0.  ]\n",
      "   [  0.     0.     0.  ]]\n",
      "\n",
      "  [[  0.     0.     0.  ]\n",
      "   [  0.     0.     0.  ]\n",
      "   [  0.     0.     0.  ]\n",
      "   ...\n",
      "   [  0.     0.     0.  ]\n",
      "   [  0.     0.     0.  ]\n",
      "   [  0.     0.     0.  ]]]\n",
      "\n",
      "\n",
      " [[[148.75 138.75 147.75]\n",
      "   [108.    98.   107.  ]\n",
      "   [129.25 119.25 128.25]\n",
      "   ...\n",
      "   [142.75 134.75 145.75]\n",
      "   [143.75 135.75 146.75]\n",
      "   [154.75 146.75 157.75]]\n",
      "\n",
      "  [[145.5  135.5  144.5 ]\n",
      "   [155.5  145.5  154.5 ]\n",
      "   [124.25 114.25 123.25]\n",
      "   ...\n",
      "   [158.75 150.75 161.75]\n",
      "   [142.25 134.25 145.25]\n",
      "   [156.5  148.5  159.5 ]]\n",
      "\n",
      "  [[122.5  112.5  121.5 ]\n",
      "   [120.   110.   119.  ]\n",
      "   [122.5  112.5  121.5 ]\n",
      "   ...\n",
      "   [147.   139.   150.  ]\n",
      "   [135.5  127.5  138.5 ]\n",
      "   [137.   129.   140.  ]]\n",
      "\n",
      "  ...\n",
      "\n",
      "  [[ 84.75  76.75  91.75]\n",
      "   [ 90.    82.    97.  ]\n",
      "   [107.5   99.5  114.5 ]\n",
      "   ...\n",
      "   [156.25 152.25 167.25]\n",
      "   [175.25 171.25 186.25]\n",
      "   [140.5  136.5  151.5 ]]\n",
      "\n",
      "  [[108.5  100.5  115.5 ]\n",
      "   [108.75 100.75 115.75]\n",
      "   [ 87.25  79.25  94.25]\n",
      "   ...\n",
      "   [120.25 116.25 131.25]\n",
      "   [158.5  154.5  169.5 ]\n",
      "   [191.5  187.5  202.5 ]]\n",
      "\n",
      "  [[110.   102.   117.  ]\n",
      "   [ 96.5   88.5  103.5 ]\n",
      "   [ 94.    86.   101.  ]\n",
      "   ...\n",
      "   [149.   145.   160.  ]\n",
      "   [164.5  160.5  175.5 ]\n",
      "   [123.25 119.25 134.25]]]\n",
      "\n",
      "\n",
      " [[[133.75 122.75 120.75]\n",
      "   [142.   131.   129.  ]\n",
      "   [127.25 116.25 114.25]\n",
      "   ...\n",
      "   [173.5  163.5  162.5 ]\n",
      "   [181.5  171.5  170.5 ]\n",
      "   [179.75 169.75 168.75]]\n",
      "\n",
      "  [[113.5  102.5  100.5 ]\n",
      "   [127.   116.   114.  ]\n",
      "   [122.25 111.25 109.25]\n",
      "   ...\n",
      "   [176.5  166.5  165.5 ]\n",
      "   [183.75 173.75 172.75]\n",
      "   [184.25 174.25 173.25]]\n",
      "\n",
      "  [[124.75 113.75 111.75]\n",
      "   [122.75 111.75 109.75]\n",
      "   [141.   130.   128.  ]\n",
      "   ...\n",
      "   [178.75 168.75 167.75]\n",
      "   [178.   168.   167.  ]\n",
      "   [171.   161.   160.  ]]\n",
      "\n",
      "  ...\n",
      "\n",
      "  [[130.75 118.75 118.75]\n",
      "   [136.5  124.5  124.5 ]\n",
      "   [119.75 107.75 107.75]\n",
      "   ...\n",
      "   [175.   166.   169.  ]\n",
      "   [175.   166.   169.  ]\n",
      "   [181.25 172.25 175.25]]\n",
      "\n",
      "  [[127.25 115.25 115.25]\n",
      "   [125.25 113.25 113.25]\n",
      "   [136.5  124.5  124.5 ]\n",
      "   ...\n",
      "   [184.5  175.5  178.5 ]\n",
      "   [179.75 170.75 173.75]\n",
      "   [183.5  174.5  177.5 ]]\n",
      "\n",
      "  [[153.   141.   141.  ]\n",
      "   [122.   110.   110.  ]\n",
      "   [148.75 136.75 136.75]\n",
      "   ...\n",
      "   [185.   176.   179.  ]\n",
      "   [180.5  171.5  174.5 ]\n",
      "   [187.5  178.5  181.5 ]]]\n",
      "\n",
      "\n",
      " ...\n",
      "\n",
      "\n",
      " [[[122.   106.   117.  ]\n",
      "   [127.25 111.25 122.25]\n",
      "   [110.75  94.75 105.75]\n",
      "   ...\n",
      "   [116.25 100.25 111.25]\n",
      "   [137.   121.   132.  ]\n",
      "   [129.5  113.5  124.5 ]]\n",
      "\n",
      "  [[105.5   89.5  100.5 ]\n",
      "   [110.5   94.5  105.5 ]\n",
      "   [110.    94.   105.  ]\n",
      "   ...\n",
      "   [124.5  108.5  119.5 ]\n",
      "   [128.   112.   123.  ]\n",
      "   [139.25 123.25 134.25]]\n",
      "\n",
      "  [[107.75  91.75 102.75]\n",
      "   [115.25  99.25 110.25]\n",
      "   [127.75 111.75 122.75]\n",
      "   ...\n",
      "   [120.5  104.5  115.5 ]\n",
      "   [108.5   92.5  103.5 ]\n",
      "   [115.5   99.5  110.5 ]]\n",
      "\n",
      "  ...\n",
      "\n",
      "  [[165.5  155.5  164.5 ]\n",
      "   [184.5  174.5  183.5 ]\n",
      "   [184.75 174.75 183.75]\n",
      "   ...\n",
      "   [197.25 191.25 201.25]\n",
      "   [203.5  197.5  207.5 ]\n",
      "   [194.   188.   198.  ]]\n",
      "\n",
      "  [[170.5  160.5  169.5 ]\n",
      "   [162.   152.   161.  ]\n",
      "   [169.   159.   168.  ]\n",
      "   ...\n",
      "   [190.75 184.75 194.75]\n",
      "   [196.75 190.75 200.75]\n",
      "   [200.   194.   204.  ]]\n",
      "\n",
      "  [[176.5  166.5  175.5 ]\n",
      "   [181.5  171.5  180.5 ]\n",
      "   [186.   176.   185.  ]\n",
      "   ...\n",
      "   [191.25 185.25 195.25]\n",
      "   [191.25 185.25 195.25]\n",
      "   [192.   186.   196.  ]]]\n",
      "\n",
      "\n",
      " [[[112.5  103.5  106.5 ]\n",
      "   [118.   109.   112.  ]\n",
      "   [114.5  105.5  108.5 ]\n",
      "   ...\n",
      "   [123.5  113.5  112.5 ]\n",
      "   [117.75 107.75 106.75]\n",
      "   [128.75 118.75 117.75]]\n",
      "\n",
      "  [[119.75 110.75 113.75]\n",
      "   [115.25 106.25 109.25]\n",
      "   [118.75 109.75 112.75]\n",
      "   ...\n",
      "   [125.   115.   114.  ]\n",
      "   [120.   110.   109.  ]\n",
      "   [131.   121.   120.  ]]\n",
      "\n",
      "  [[117.   108.   111.  ]\n",
      "   [124.25 115.25 118.25]\n",
      "   [123.   114.   117.  ]\n",
      "   ...\n",
      "   [132.75 122.75 121.75]\n",
      "   [136.   126.   125.  ]\n",
      "   [122.   112.   111.  ]]\n",
      "\n",
      "  ...\n",
      "\n",
      "  [[167.   170.   175.  ]\n",
      "   [167.   170.   175.  ]\n",
      "   [166.75 169.75 174.75]\n",
      "   ...\n",
      "   [162.   165.   174.  ]\n",
      "   [162.25 165.25 174.25]\n",
      "   [160.25 163.25 172.25]]\n",
      "\n",
      "  [[167.75 170.75 175.75]\n",
      "   [167.5  170.5  175.5 ]\n",
      "   [167.5  170.5  175.5 ]\n",
      "   ...\n",
      "   [162.75 165.75 174.75]\n",
      "   [162.5  165.5  174.5 ]\n",
      "   [160.75 163.75 172.75]]\n",
      "\n",
      "  [[163.   166.   171.  ]\n",
      "   [164.   167.   172.  ]\n",
      "   [165.75 168.75 173.75]\n",
      "   ...\n",
      "   [164.75 167.75 176.75]\n",
      "   [163.   166.   175.  ]\n",
      "   [163.75 166.75 175.75]]]\n",
      "\n",
      "\n",
      " [[[111.75 107.75 104.75]\n",
      "   [114.75 110.75 107.75]\n",
      "   [ 98.25  94.25  91.25]\n",
      "   ...\n",
      "   [ 98.75  93.75  89.75]\n",
      "   [112.25 107.25 103.25]\n",
      "   [110.25 105.25 101.25]]\n",
      "\n",
      "  [[107.5  103.5  100.5 ]\n",
      "   [110.   106.   103.  ]\n",
      "   [105.25 101.25  98.25]\n",
      "   ...\n",
      "   [105.   100.    96.  ]\n",
      "   [104.5   99.5   95.5 ]\n",
      "   [112.   107.   103.  ]]\n",
      "\n",
      "  [[107.   103.   100.  ]\n",
      "   [111.75 107.75 104.75]\n",
      "   [116.75 112.75 109.75]\n",
      "   ...\n",
      "   [ 93.5   88.5   84.5 ]\n",
      "   [110.25 105.25 101.25]\n",
      "   [115.   110.   106.  ]]\n",
      "\n",
      "  ...\n",
      "\n",
      "  [[169.25 167.25 168.25]\n",
      "   [175.75 173.75 174.75]\n",
      "   [168.5  166.5  167.5 ]\n",
      "   ...\n",
      "   [159.5  155.5  152.5 ]\n",
      "   [179.25 175.25 172.25]\n",
      "   [162.   158.   155.  ]]\n",
      "\n",
      "  [[161.75 159.75 160.75]\n",
      "   [167.75 165.75 166.75]\n",
      "   [170.   168.   169.  ]\n",
      "   ...\n",
      "   [172.75 168.75 165.75]\n",
      "   [176.5  172.5  169.5 ]\n",
      "   [175.75 171.75 168.75]]\n",
      "\n",
      "  [[172.25 170.25 171.25]\n",
      "   [166.   164.   165.  ]\n",
      "   [173.25 171.25 172.25]\n",
      "   ...\n",
      "   [163.25 159.25 156.25]\n",
      "   [172.25 168.25 165.25]\n",
      "   [178.5  174.5  171.5 ]]]], shape=(32, 128, 128, 3), dtype=float32) (32, 128, 128, 3)\n",
      "tf.Tensor(\n",
      "[[0. 0. 0. 0. 0. 1. 0. 0. 0. 0. 0. 0. 0. 0. 0. 0. 0. 0. 0. 0.]\n",
      " [0. 0. 0. 0. 0. 0. 0. 0. 0. 0. 0. 0. 0. 0. 0. 0. 0. 0. 0. 1.]\n",
      " [0. 0. 0. 0. 0. 0. 0. 0. 0. 0. 0. 0. 0. 0. 0. 0. 1. 0. 0. 0.]\n",
      " [0. 0. 0. 0. 0. 0. 0. 0. 0. 0. 0. 0. 0. 0. 0. 0. 0. 1. 0. 0.]\n",
      " [0. 0. 0. 0. 0. 0. 0. 0. 0. 0. 0. 0. 0. 0. 1. 0. 0. 0. 0. 0.]\n",
      " [0. 0. 0. 0. 1. 0. 0. 0. 0. 0. 0. 0. 0. 0. 0. 0. 0. 0. 0. 0.]\n",
      " [0. 0. 0. 0. 0. 0. 0. 0. 0. 0. 0. 0. 0. 0. 0. 0. 0. 1. 0. 0.]\n",
      " [0. 0. 0. 0. 0. 0. 0. 0. 0. 0. 0. 0. 0. 0. 0. 1. 0. 0. 0. 0.]\n",
      " [0. 0. 0. 0. 0. 0. 0. 0. 0. 0. 0. 0. 0. 0. 0. 0. 0. 0. 1. 0.]\n",
      " [0. 0. 0. 0. 0. 0. 0. 0. 0. 0. 0. 0. 1. 0. 0. 0. 0. 0. 0. 0.]\n",
      " [0. 0. 0. 0. 0. 0. 0. 0. 0. 0. 0. 0. 0. 1. 0. 0. 0. 0. 0. 0.]\n",
      " [1. 0. 0. 0. 0. 0. 0. 0. 0. 0. 0. 0. 0. 0. 0. 0. 0. 0. 0. 0.]\n",
      " [0. 0. 0. 0. 1. 0. 0. 0. 0. 0. 0. 0. 0. 0. 0. 0. 0. 0. 0. 0.]\n",
      " [0. 0. 0. 0. 0. 0. 0. 0. 0. 0. 0. 0. 1. 0. 0. 0. 0. 0. 0. 0.]\n",
      " [0. 0. 0. 0. 0. 0. 1. 0. 0. 0. 0. 0. 0. 0. 0. 0. 0. 0. 0. 0.]\n",
      " [0. 0. 1. 0. 0. 0. 0. 0. 0. 0. 0. 0. 0. 0. 0. 0. 0. 0. 0. 0.]\n",
      " [0. 0. 0. 0. 0. 0. 0. 0. 0. 0. 0. 0. 0. 0. 0. 0. 1. 0. 0. 0.]\n",
      " [0. 0. 0. 0. 0. 0. 0. 0. 0. 0. 0. 0. 0. 0. 0. 1. 0. 0. 0. 0.]\n",
      " [0. 0. 0. 0. 1. 0. 0. 0. 0. 0. 0. 0. 0. 0. 0. 0. 0. 0. 0. 0.]\n",
      " [0. 0. 1. 0. 0. 0. 0. 0. 0. 0. 0. 0. 0. 0. 0. 0. 0. 0. 0. 0.]\n",
      " [0. 0. 0. 0. 0. 0. 0. 0. 0. 0. 0. 0. 0. 1. 0. 0. 0. 0. 0. 0.]\n",
      " [0. 0. 0. 0. 0. 1. 0. 0. 0. 0. 0. 0. 0. 0. 0. 0. 0. 0. 0. 0.]\n",
      " [0. 0. 0. 0. 0. 0. 0. 0. 0. 0. 0. 0. 0. 1. 0. 0. 0. 0. 0. 0.]\n",
      " [0. 0. 0. 0. 0. 0. 0. 0. 0. 0. 0. 0. 0. 0. 0. 0. 0. 1. 0. 0.]\n",
      " [0. 0. 0. 0. 0. 0. 0. 0. 0. 0. 0. 0. 0. 0. 0. 0. 0. 1. 0. 0.]\n",
      " [0. 0. 0. 0. 0. 0. 0. 0. 0. 0. 0. 0. 0. 0. 0. 0. 0. 0. 1. 0.]\n",
      " [0. 0. 0. 0. 0. 0. 0. 0. 0. 0. 0. 0. 0. 0. 0. 1. 0. 0. 0. 0.]\n",
      " [1. 0. 0. 0. 0. 0. 0. 0. 0. 0. 0. 0. 0. 0. 0. 0. 0. 0. 0. 0.]\n",
      " [1. 0. 0. 0. 0. 0. 0. 0. 0. 0. 0. 0. 0. 0. 0. 0. 0. 0. 0. 0.]\n",
      " [0. 0. 0. 0. 0. 0. 0. 0. 0. 0. 0. 0. 0. 0. 0. 0. 1. 0. 0. 0.]\n",
      " [0. 0. 0. 0. 0. 0. 0. 0. 0. 0. 0. 1. 0. 0. 0. 0. 0. 0. 0. 0.]\n",
      " [0. 0. 0. 0. 0. 0. 0. 0. 0. 0. 1. 0. 0. 0. 0. 0. 0. 0. 0. 0.]], shape=(32, 20), dtype=float32) (32, 20)\n"
     ]
    }
   ],
   "source": [
    "for x,y in training_set:\n",
    "    print(x,x.shape)\n",
    "    print(y,y.shape)\n",
    "    break"
   ]
  },
  {
   "cell_type": "code",
   "execution_count": 9,
   "id": "1c475966-75e7-4db9-b78e-b03772d6c115",
   "metadata": {},
   "outputs": [],
   "source": [
    "##Building Model\n",
    "from tensorflow.keras.layers import Dense,Conv2D,MaxPool2D,Flatten,Dropout\n",
    "from tensorflow.keras.models import Sequential"
   ]
  },
  {
   "cell_type": "code",
   "execution_count": 10,
   "id": "fc26adfe-abc7-4e41-b8eb-7eff4dde97e1",
   "metadata": {},
   "outputs": [],
   "source": [
    "## Building Convolution Layer"
   ]
  },
  {
   "cell_type": "code",
   "execution_count": 11,
   "id": "3aa5f8ca-2802-4880-90e6-7e2429cf61b9",
   "metadata": {},
   "outputs": [],
   "source": [
    "model = Sequential()"
   ]
  },
  {
   "cell_type": "code",
   "execution_count": 12,
   "id": "56a826a7-a792-4d19-99dc-dfa13236ed0c",
   "metadata": {},
   "outputs": [],
   "source": [
    "model.add(Conv2D(filters=32,kernel_size=3,padding='same',activation='relu',input_shape=[128,128,3]))\n",
    "model.add(Conv2D(filters=32,kernel_size=3,activation='relu'))\n",
    "model.add(MaxPool2D(pool_size=2,strides=2))"
   ]
  },
  {
   "cell_type": "code",
   "execution_count": 13,
   "id": "cdadb90c-d618-4f25-a075-2ecd1606996f",
   "metadata": {},
   "outputs": [],
   "source": [
    "model.add(Conv2D(filters=64,kernel_size=3,padding='same',activation='relu'))\n",
    "model.add(Conv2D(filters=64,kernel_size=3,activation='relu'))\n",
    "model.add(MaxPool2D(pool_size=2,strides=2))"
   ]
  },
  {
   "cell_type": "code",
   "execution_count": 14,
   "id": "ab4a73e1-6958-4190-b01d-d9e35e5d41f9",
   "metadata": {},
   "outputs": [],
   "source": [
    "model.add(Conv2D(filters=128,kernel_size=3,padding='same',activation='relu'))\n",
    "model.add(Conv2D(filters=128,kernel_size=3,activation='relu'))\n",
    "model.add(MaxPool2D(pool_size=2,strides=2))"
   ]
  },
  {
   "cell_type": "code",
   "execution_count": 15,
   "id": "a5cae080-0626-4cff-8b54-d7a03fef9518",
   "metadata": {},
   "outputs": [],
   "source": [
    "model.add(Conv2D(filters=256,kernel_size=3,padding='same',activation='relu'))\n",
    "model.add(Conv2D(filters=256,kernel_size=3,activation='relu'))\n",
    "model.add(MaxPool2D(pool_size=2,strides=2))"
   ]
  },
  {
   "cell_type": "code",
   "execution_count": 16,
   "id": "6e3b9616-029c-48ac-9eae-9bf10b08679e",
   "metadata": {},
   "outputs": [],
   "source": [
    "model.add(Conv2D(filters=512,kernel_size=3,padding='same',activation='relu'))\n",
    "model.add(Conv2D(filters=512,kernel_size=3,activation='relu'))\n",
    "model.add(MaxPool2D(pool_size=2,strides=2))"
   ]
  },
  {
   "cell_type": "code",
   "execution_count": 17,
   "id": "23f94d9b-3a16-47e8-9ba9-d7ec0d89354f",
   "metadata": {},
   "outputs": [],
   "source": [
    "model.add(Dropout(0.25)) # To avoid Overfitting"
   ]
  },
  {
   "cell_type": "code",
   "execution_count": 18,
   "id": "1e3b5db0-c8c1-4f2f-b805-a3ff2ea5e0d8",
   "metadata": {},
   "outputs": [],
   "source": [
    "model.add(Flatten())"
   ]
  },
  {
   "cell_type": "code",
   "execution_count": 19,
   "id": "b43748be-118d-49d8-97de-bd1bd5d728e4",
   "metadata": {},
   "outputs": [],
   "source": [
    "model.add(Dense(units=1500,activation='relu'))"
   ]
  },
  {
   "cell_type": "code",
   "execution_count": 20,
   "id": "23e0e229-efe8-4df3-bcfa-96ae6e0bde8c",
   "metadata": {},
   "outputs": [],
   "source": [
    "model.add(Dropout(0.4))"
   ]
  },
  {
   "cell_type": "code",
   "execution_count": 21,
   "id": "eaa4a758-3b5b-4933-8f33-e3abee1ad34c",
   "metadata": {},
   "outputs": [],
   "source": [
    "#Output Layer\n",
    "model.add(Dense(units=20,activation='softmax'))"
   ]
  },
  {
   "cell_type": "code",
   "execution_count": 23,
   "id": "5479888b-6828-420b-99e8-1480527554ad",
   "metadata": {},
   "outputs": [],
   "source": [
    "##Compiling Model"
   ]
  },
  {
   "cell_type": "code",
   "execution_count": 24,
   "id": "690b70a5-c4ae-48b9-89ab-bdd9ccd52e59",
   "metadata": {},
   "outputs": [],
   "source": [
    "model.compile(optimizer=tf.keras.optimizers.legacy.Adam(\n",
    "    learning_rate=0.0001),loss='categorical_crossentropy',metrics=['accuracy'])"
   ]
  },
  {
   "cell_type": "code",
   "execution_count": 25,
   "id": "bb91ba49-9084-4b28-907f-af5016115868",
   "metadata": {},
   "outputs": [
    {
     "name": "stdout",
     "output_type": "stream",
     "text": [
      "Model: \"sequential\"\n",
      "_________________________________________________________________\n",
      " Layer (type)                Output Shape              Param #   \n",
      "=================================================================\n",
      " conv2d (Conv2D)             (None, 128, 128, 32)      896       \n",
      "                                                                 \n",
      " conv2d_1 (Conv2D)           (None, 126, 126, 32)      9248      \n",
      "                                                                 \n",
      " max_pooling2d (MaxPooling2  (None, 63, 63, 32)        0         \n",
      " D)                                                              \n",
      "                                                                 \n",
      " conv2d_2 (Conv2D)           (None, 63, 63, 64)        18496     \n",
      "                                                                 \n",
      " conv2d_3 (Conv2D)           (None, 61, 61, 64)        36928     \n",
      "                                                                 \n",
      " max_pooling2d_1 (MaxPoolin  (None, 30, 30, 64)        0         \n",
      " g2D)                                                            \n",
      "                                                                 \n",
      " conv2d_4 (Conv2D)           (None, 30, 30, 128)       73856     \n",
      "                                                                 \n",
      " conv2d_5 (Conv2D)           (None, 28, 28, 128)       147584    \n",
      "                                                                 \n",
      " max_pooling2d_2 (MaxPoolin  (None, 14, 14, 128)       0         \n",
      " g2D)                                                            \n",
      "                                                                 \n",
      " conv2d_6 (Conv2D)           (None, 14, 14, 256)       295168    \n",
      "                                                                 \n",
      " conv2d_7 (Conv2D)           (None, 12, 12, 256)       590080    \n",
      "                                                                 \n",
      " max_pooling2d_3 (MaxPoolin  (None, 6, 6, 256)         0         \n",
      " g2D)                                                            \n",
      "                                                                 \n",
      " conv2d_8 (Conv2D)           (None, 6, 6, 512)         1180160   \n",
      "                                                                 \n",
      " conv2d_9 (Conv2D)           (None, 4, 4, 512)         2359808   \n",
      "                                                                 \n",
      " max_pooling2d_4 (MaxPoolin  (None, 2, 2, 512)         0         \n",
      " g2D)                                                            \n",
      "                                                                 \n",
      " dropout (Dropout)           (None, 2, 2, 512)         0         \n",
      "                                                                 \n",
      " flatten (Flatten)           (None, 2048)              0         \n",
      "                                                                 \n",
      " dense (Dense)               (None, 1500)              3073500   \n",
      "                                                                 \n",
      " dropout_1 (Dropout)         (None, 1500)              0         \n",
      "                                                                 \n",
      " dense_1 (Dense)             (None, 20)                30020     \n",
      "                                                                 \n",
      "=================================================================\n",
      "Total params: 7815744 (29.81 MB)\n",
      "Trainable params: 7815744 (29.81 MB)\n",
      "Non-trainable params: 0 (0.00 Byte)\n",
      "_________________________________________________________________\n"
     ]
    }
   ],
   "source": [
    "model.summary()"
   ]
  },
  {
   "cell_type": "code",
   "execution_count": 26,
   "id": "f0a6e3a1-e39d-451f-b022-4ecdd51b873f",
   "metadata": {},
   "outputs": [
    {
     "name": "stdout",
     "output_type": "stream",
     "text": [
      "Epoch 1/10\n",
      "1157/1157 [==============================] - 2631s 2s/step - loss: 1.1807 - accuracy: 0.6228 - val_loss: 0.5640 - val_accuracy: 0.8147\n",
      "Epoch 2/10\n",
      "1157/1157 [==============================] - 1580s 1s/step - loss: 0.4793 - accuracy: 0.8417 - val_loss: 0.4849 - val_accuracy: 0.8454\n",
      "Epoch 3/10\n",
      "1157/1157 [==============================] - 1971s 2s/step - loss: 0.3016 - accuracy: 0.9013 - val_loss: 0.3336 - val_accuracy: 0.8878\n",
      "Epoch 4/10\n",
      "1157/1157 [==============================] - 2598s 2s/step - loss: 0.2162 - accuracy: 0.9275 - val_loss: 0.2387 - val_accuracy: 0.9211\n",
      "Epoch 5/10\n",
      "1157/1157 [==============================] - 2572s 2s/step - loss: 0.1630 - accuracy: 0.9456 - val_loss: 0.2125 - val_accuracy: 0.9316\n",
      "Epoch 6/10\n",
      "1157/1157 [==============================] - 2235s 2s/step - loss: 0.1300 - accuracy: 0.9573 - val_loss: 0.2691 - val_accuracy: 0.9147\n",
      "Epoch 7/10\n",
      "1157/1157 [==============================] - 1592s 1s/step - loss: 0.1065 - accuracy: 0.9634 - val_loss: 0.1395 - val_accuracy: 0.9579\n",
      "Epoch 8/10\n",
      "1157/1157 [==============================] - 1593s 1s/step - loss: 0.0880 - accuracy: 0.9713 - val_loss: 0.1679 - val_accuracy: 0.9495\n",
      "Epoch 9/10\n",
      "1157/1157 [==============================] - 1585s 1s/step - loss: 0.0757 - accuracy: 0.9757 - val_loss: 0.1554 - val_accuracy: 0.9543\n",
      "Epoch 10/10\n",
      "1157/1157 [==============================] - 1568s 1s/step - loss: 0.0729 - accuracy: 0.9756 - val_loss: 0.1649 - val_accuracy: 0.9522\n"
     ]
    }
   ],
   "source": [
    "training_history = model.fit(x=training_set,validation_data=validation_set,epochs=10)"
   ]
  },
  {
   "cell_type": "code",
   "execution_count": 27,
   "id": "91dd179f-93a5-4602-af83-c69b4dec5a76",
   "metadata": {
    "scrolled": true
   },
   "outputs": [
    {
     "name": "stdout",
     "output_type": "stream",
     "text": [
      "1157/1157 [==============================] - 352s 304ms/step - loss: 0.0543 - accuracy: 0.9836\n"
     ]
    }
   ],
   "source": [
    "#Model Evaluation on Training set\n",
    "train_loss,train_acc = model.evaluate(training_set)"
   ]
  },
  {
   "cell_type": "code",
   "execution_count": 28,
   "id": "6245d29b-aefc-4758-a168-4a931940f594",
   "metadata": {},
   "outputs": [
    {
     "name": "stdout",
     "output_type": "stream",
     "text": [
      "0.054305873811244965 0.9835937023162842\n"
     ]
    }
   ],
   "source": [
    "print(train_loss,train_acc)"
   ]
  },
  {
   "cell_type": "code",
   "execution_count": 29,
   "id": "a8c8cb55-d846-4d19-bd55-ee803b4c6848",
   "metadata": {},
   "outputs": [
    {
     "name": "stdout",
     "output_type": "stream",
     "text": [
      "289/289 [==============================] - 107s 371ms/step - loss: 0.1649 - accuracy: 0.9522\n"
     ]
    }
   ],
   "source": [
    "#Model on Validation set\n",
    "val_loss,val_acc = model.evaluate(validation_set)"
   ]
  },
  {
   "cell_type": "code",
   "execution_count": 30,
   "id": "f953adb4-154e-4f3c-ba0b-4645903b9bab",
   "metadata": {},
   "outputs": [
    {
     "name": "stdout",
     "output_type": "stream",
     "text": [
      "0.16488145291805267 0.9522058963775635\n"
     ]
    }
   ],
   "source": [
    "print(val_loss,val_acc)"
   ]
  },
  {
   "cell_type": "code",
   "execution_count": 31,
   "id": "4d828841-c681-4dc6-9a5e-bf0d141a9853",
   "metadata": {},
   "outputs": [],
   "source": [
    "##SAVING MODEL"
   ]
  },
  {
   "cell_type": "code",
   "execution_count": 32,
   "id": "45f559a4-e5bb-4b4c-9d2b-0c2e014fe0b4",
   "metadata": {},
   "outputs": [],
   "source": [
    "model.save(\"trained_model.keras\")"
   ]
  },
  {
   "cell_type": "code",
   "execution_count": 33,
   "id": "d69f72ff-045f-408e-94a6-ca20ceb33ad1",
   "metadata": {},
   "outputs": [
    {
     "data": {
      "text/plain": [
       "{'loss': [1.1807388067245483,\n",
       "  0.47929611802101135,\n",
       "  0.30160215497016907,\n",
       "  0.21615509688854218,\n",
       "  0.1630079597234726,\n",
       "  0.12997035682201385,\n",
       "  0.10645505785942078,\n",
       "  0.08801982551813126,\n",
       "  0.07573306560516357,\n",
       "  0.07285963743925095],\n",
       " 'accuracy': [0.6228444576263428,\n",
       "  0.841667115688324,\n",
       "  0.9013460278511047,\n",
       "  0.927509605884552,\n",
       "  0.9456456899642944,\n",
       "  0.9572950005531311,\n",
       "  0.9634034037590027,\n",
       "  0.971322774887085,\n",
       "  0.9757283926010132,\n",
       "  0.9756203293800354],\n",
       " 'val_loss': [0.5639784932136536,\n",
       "  0.4849315881729126,\n",
       "  0.3335621654987335,\n",
       "  0.23866453766822815,\n",
       "  0.21250392496585846,\n",
       "  0.2690959572792053,\n",
       "  0.13954555988311768,\n",
       "  0.16785390675067902,\n",
       "  0.15536139905452728,\n",
       "  0.16488142311573029],\n",
       " 'val_accuracy': [0.8146626353263855,\n",
       "  0.8453719615936279,\n",
       "  0.8877595067024231,\n",
       "  0.921064019203186,\n",
       "  0.9315527677536011,\n",
       "  0.9146842360496521,\n",
       "  0.9579368233680725,\n",
       "  0.9495025873184204,\n",
       "  0.9542604088783264,\n",
       "  0.9522058963775635]}"
      ]
     },
     "execution_count": 33,
     "metadata": {},
     "output_type": "execute_result"
    }
   ],
   "source": [
    "training_history.history"
   ]
  },
  {
   "cell_type": "code",
   "execution_count": 34,
   "id": "1ff9dd66-48ae-4e16-acd5-ab1860421a1a",
   "metadata": {},
   "outputs": [],
   "source": [
    "#Recording History in json\n",
    "import json\n",
    "with open(\"training_hist.json\",\"w\") as f:\n",
    "    json.dump(training_history.history,f)"
   ]
  },
  {
   "cell_type": "code",
   "execution_count": 35,
   "id": "12ddddde-0e82-47c4-aedd-140f4aed5981",
   "metadata": {},
   "outputs": [
    {
     "data": {
      "text/plain": [
       "[0.8146626353263855,\n",
       " 0.8453719615936279,\n",
       " 0.8877595067024231,\n",
       " 0.921064019203186,\n",
       " 0.9315527677536011,\n",
       " 0.9146842360496521,\n",
       " 0.9579368233680725,\n",
       " 0.9495025873184204,\n",
       " 0.9542604088783264,\n",
       " 0.9522058963775635]"
      ]
     },
     "execution_count": 35,
     "metadata": {},
     "output_type": "execute_result"
    }
   ],
   "source": [
    "training_history.history['val_accuracy']"
   ]
  },
  {
   "cell_type": "code",
   "execution_count": 36,
   "id": "3c069dcc-11d1-40fe-b309-0adc6dd5be3e",
   "metadata": {},
   "outputs": [
    {
     "data": {
      "image/png": "[encoded data removed]",
      "text/plain": [
       "<Figure size 640x480 with 1 Axes>"
      ]
     },
     "metadata": {},
     "output_type": "display_data"
    }
   ],
   "source": [
    "epochs = [i for i in range(1,11)]\n",
    "plt.plot(epochs,training_history.history['accuracy'],color='red',label='Training Accuracy')\n",
    "plt.plot(epochs,training_history.history['val_accuracy'],color='blue',label='Validation Accuracy')\n",
    "plt.xlabel(\"No. of Epochs\")\n",
    "plt.ylabel(\"Accuracy Result\")\n",
    "plt.title(\"Visualization of Accuracy Result\")\n",
    "plt.legend()\n",
    "plt.show()"
   ]
  },
  {
   "cell_type": "code",
   "execution_count": 37,
   "id": "92cdb390-7dd3-4bb0-9393-86d68038a204",
   "metadata": {},
   "outputs": [],
   "source": [
    "##Some other metrics for model evaluation"
   ]
  },
  {
   "cell_type": "code",
   "execution_count": 38,
   "id": "a0008d91-46d5-4f04-921a-ac3b21732753",
   "metadata": {},
   "outputs": [
    {
     "data": {
      "text/plain": [
       "['Apple___Apple_scab',\n",
       " 'Apple___Black_rot',\n",
       " 'Apple___Cedar_apple_rust',\n",
       " 'Apple___healthy',\n",
       " 'Corn_(maize)___Cercospora_leaf_spot Gray_leaf_spot',\n",
       " 'Corn_(maize)___Common_rust_',\n",
       " 'Corn_(maize)___Northern_Leaf_Blight',\n",
       " 'Corn_(maize)___healthy',\n",
       " 'Peach___Bacterial_spot',\n",
       " 'Peach___healthy',\n",
       " 'Tomato___Bacterial_spot',\n",
       " 'Tomato___Early_blight',\n",
       " 'Tomato___Late_blight',\n",
       " 'Tomato___Leaf_Mold',\n",
       " 'Tomato___Septoria_leaf_spot',\n",
       " 'Tomato___Spider_mites Two-spotted_spider_mite',\n",
       " 'Tomato___Target_Spot',\n",
       " 'Tomato___Tomato_Yellow_Leaf_Curl_Virus',\n",
       " 'Tomato___Tomato_mosaic_virus',\n",
       " 'Tomato___healthy']"
      ]
     },
     "execution_count": 38,
     "metadata": {},
     "output_type": "execute_result"
    }
   ],
   "source": [
    "class_name = validation_set.class_names\n",
    "class_name"
   ]
  },
  {
   "cell_type": "code",
   "execution_count": 39,
   "id": "df02729c-6cbc-4a9e-bec9-ab8bba0ef3b2",
   "metadata": {},
   "outputs": [
    {
     "name": "stdout",
     "output_type": "stream",
     "text": [
      "Found 9248 files belonging to 20 classes.\n"
     ]
    }
   ],
   "source": [
    "test_set = tf.keras.utils.image_dataset_from_directory(\n",
    "    'valid',\n",
    "    labels=\"inferred\",\n",
    "    label_mode=\"categorical\",\n",
    "    class_names=None,\n",
    "    color_mode=\"rgb\",\n",
    "    batch_size=32,\n",
    "    image_size=(128, 128),\n",
    "    shuffle=False,\n",
    "    seed=None,\n",
    "    validation_split=None,\n",
    "    subset=None,\n",
    "    interpolation=\"bilinear\",\n",
    "    follow_links=False,\n",
    "    crop_to_aspect_ratio=False,\n",
    ")"
   ]
  },
  {
   "cell_type": "code",
   "execution_count": 40,
   "id": "347e50cd-70b5-4e60-8f59-46a85bcfe43b",
   "metadata": {},
   "outputs": [
    {
     "name": "stdout",
     "output_type": "stream",
     "text": [
      "289/289 [==============================] - 161s 556ms/step\n"
     ]
    },
    {
     "data": {
      "text/plain": [
       "(array([[9.9995577e-01, 4.4298072e-06, 5.3877742e-09, ..., 4.2292931e-12,\n",
       "         4.4354668e-12, 1.8529751e-11],\n",
       "        [7.6885724e-01, 3.8521815e-05, 1.8802217e-07, ..., 1.6217901e-10,\n",
       "         3.0118050e-10, 9.3890753e-09],\n",
       "        [9.9999964e-01, 1.4549940e-07, 9.3798551e-09, ..., 3.2278569e-13,\n",
       "         3.2033686e-12, 1.5009463e-10],\n",
       "        ...,\n",
       "        [5.2065986e-12, 5.8591323e-15, 5.5131960e-10, ..., 2.6787739e-15,\n",
       "         1.0034861e-13, 1.0000000e+00],\n",
       "        [2.7859720e-12, 2.1723100e-15, 9.6813821e-11, ..., 2.7892149e-16,\n",
       "         9.7258186e-15, 1.0000000e+00],\n",
       "        [5.6859868e-12, 8.3314208e-14, 1.9919528e-12, ..., 4.4070946e-15,\n",
       "         5.6653933e-13, 9.9999654e-01]], dtype=float32),\n",
       " (9248, 20))"
      ]
     },
     "execution_count": 40,
     "metadata": {},
     "output_type": "execute_result"
    }
   ],
   "source": [
    "y_pred = model.predict(test_set)\n",
    "y_pred,y_pred.shape"
   ]
  },
  {
   "cell_type": "code",
   "execution_count": 41,
   "id": "e259c449-a0f5-49f9-8bc6-234a997e16a0",
   "metadata": {},
   "outputs": [],
   "source": [
    "predicted_categories = tf.argmax(y_pred,axis=1)"
   ]
  },
  {
   "cell_type": "code",
   "execution_count": 42,
   "id": "c1ed6f60-bb93-477c-9777-8af770b084b7",
   "metadata": {},
   "outputs": [
    {
     "data": {
      "text/plain": [
       "<tf.Tensor: shape=(9248,), dtype=int64, numpy=array([ 0,  0,  0, ..., 19, 19, 19], dtype=int64)>"
      ]
     },
     "execution_count": 42,
     "metadata": {},
     "output_type": "execute_result"
    }
   ],
   "source": [
    "predicted_categories"
   ]
  },
  {
   "cell_type": "code",
   "execution_count": 43,
   "id": "f1d2ba23-f6ca-44dc-bb42-7ac2b5dc63a7",
   "metadata": {},
   "outputs": [
    {
     "data": {
      "text/plain": [
       "<tf.Tensor: shape=(9248, 20), dtype=float32, numpy=\n",
       "array([[1., 0., 0., ..., 0., 0., 0.],\n",
       "       [1., 0., 0., ..., 0., 0., 0.],\n",
       "       [1., 0., 0., ..., 0., 0., 0.],\n",
       "       ...,\n",
       "       [0., 0., 0., ..., 0., 0., 1.],\n",
       "       [0., 0., 0., ..., 0., 0., 1.],\n",
       "       [0., 0., 0., ..., 0., 0., 1.]], dtype=float32)>"
      ]
     },
     "execution_count": 43,
     "metadata": {},
     "output_type": "execute_result"
    }
   ],
   "source": [
    "true_categories = tf.concat([y for x,y in test_set],axis=0)\n",
    "true_categories"
   ]
  },
  {
   "cell_type": "code",
   "execution_count": null,
   "id": "552a9a3b-5340-476e-a95f-5992398db74e",
   "metadata": {},
   "outputs": [],
   "source": [
    "Y_true = tf.argmax(true_categories,axis=1)\n",
    "Y_true"
   ]
  },
  {
   "cell_type": "code",
   "execution_count": null,
   "id": "1bc4c156-6570-4ad1-92bd-0d4041e04deb",
   "metadata": {},
   "outputs": [],
   "source": [
    "from sklearn.metrics import classification_report,confusion_matrix"
   ]
  },
  {
   "cell_type": "code",
   "execution_count": null,
   "id": "281820a8-74a8-4265-a092-a6b7f51f1aaa",
   "metadata": {},
   "outputs": [],
   "source": [
    "print(classification_report(Y_true,predicted_categories,target_names=class_name))"
   ]
  },
  {
   "cell_type": "code",
   "execution_count": null,
   "id": "a4da14e3-7eb3-4489-85bc-0c0020baa39a",
   "metadata": {},
   "outputs": [],
   "source": [
    "cm = confusion_matrix(Y_true,predicted_categories)\n",
    "cm"
   ]
  },
  {
   "cell_type": "code",
   "execution_count": null,
   "id": "75564132-8cff-4f18-b3c0-1fbedecee3f9",
   "metadata": {},
   "outputs": [],
   "source": [
    "##Confusion Matrix Visualization\n",
    "plt.figure(figsize=(40,40))\n",
    "sns.heatmap(cm,annot=True,annot_kws={'size':10})\n",
    "plt.xlabel(\"Predicted Class\",fontsize=20)\n",
    "plt.ylabel(\"Actual Class\",fontsize=20)\n",
    "plt.title(\"Plant Disease Prediction Confusion Matrix\",fontsize=25)\n",
    "plt.show()"
   ]
  }
 ],
 "metadata": {
  "kernelspec": {
   "display_name": "Python (tf_env)",
   "language": "python",
   "name": "tf_env"
  },
  "language_info": {
   "codemirror_mode": {
    "name": "ipython",
    "version": 3
   },
   "file_extension": ".py",
   "mimetype": "text/x-python",
   "name": "python",
   "nbconvert_exporter": "python",
   "pygments_lexer": "ipython3",
   "version": "3.8.20"
  }
 },
 "nbformat": 4,
 "nbformat_minor": 5
}
