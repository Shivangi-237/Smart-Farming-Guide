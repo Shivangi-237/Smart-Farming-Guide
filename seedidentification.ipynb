{
 "cells": [
  {
   "cell_type": "code",
   "execution_count": 1,
   "id": "52f366ac-f1ba-432c-bf68-ad2d786d7ec6",
   "metadata": {},
   "outputs": [],
   "source": [
    "import os\n",
    "import cv2\n",
    "import numpy as np\n",
    "from sklearn.model_selection import train_test_split\n",
    "from tensorflow.keras.preprocessing.image import ImageDataGenerator\n",
    "from tensorflow.keras import models, layers\n",
    "import matplotlib.pyplot as plt\n",
    "from tensorflow.keras.utils import to_categorical\n",
    "\n",
    "\n",
    "# Define the path to your dataset\n",
    "dataset_path = 'dataset1'\n",
    "\n",
    "# Get the list of class names (folder names)\n",
    "class_names = os.listdir(dataset_path)\n"
   ]
  },
  {
   "cell_type": "code",
   "execution_count": 2,
   "id": "31b6c55e-d500-4eb8-80e0-d6b266dde6d3",
   "metadata": {},
   "outputs": [],
   "source": [
    "# Supported image file extensions\n",
    "supported_extensions = ('.jpg', '.jpeg', '.png')\n",
    "\n",
    "# Initialize empty lists for images and labels\n",
    "images = []\n",
    "labels = []\n"
   ]
  },
  {
   "cell_type": "code",
   "execution_count": 3,
   "id": "f49aac09-49e3-48fe-984f-425017c9afc2",
   "metadata": {},
   "outputs": [],
   "source": [
    "# Iterate through each class folder\n",
    "for class_idx, class_name in enumerate(class_names):\n",
    "    class_folder = os.path.join(dataset_path, class_name)\n",
    "    \n",
    "    if os.path.isdir(class_folder):\n",
    "        # Loop through all files in the class folder\n",
    "        for img_file in os.listdir(class_folder):\n",
    "            # Skip hidden files and folders (like .ipynb_checkpoints)\n",
    "            if img_file.startswith('.') or not img_file.endswith(supported_extensions):\n",
    "                continue\n",
    "            \n",
    "            img_path = os.path.join(class_folder, img_file)\n",
    "\n",
    "            # Read the image using OpenCV\n",
    "            img = cv2.imread(img_path)\n",
    "            \n",
    "            # Check if the image is loaded properly\n",
    "            if img is None:\n",
    "                print(f\"Failed to load image: {img_path}\")\n",
    "                continue  # Skip this image\n",
    "            \n",
    "            # Convert image from BGR to RGB (since OpenCV uses BGR by default)\n",
    "            img = cv2.cvtColor(img, cv2.COLOR_BGR2RGB)\n",
    "            \n",
    "            # Resize the image to a fixed size (e.g., 64x64)\n",
    "            img = cv2.resize(img, (64, 64))\n",
    "            \n",
    "            # Append the image and its label (class) to the lists\n",
    "            images.append(img)\n",
    "            labels.append(class_idx)  # Class label as index\n",
    "            "
   ]
  },
  {
   "cell_type": "code",
   "execution_count": 4,
   "id": "57caf7b5-5e3e-48ac-a6c7-0dd7b2cf045c",
   "metadata": {},
   "outputs": [
    {
     "name": "stdout",
     "output_type": "stream",
     "text": [
      "Number of images: 249\n",
      "Shape of image data: (249, 64, 64, 3)\n"
     ]
    }
   ],
   "source": [
    "# Convert the images and labels lists to numpy arrays\n",
    "images = np.array(images)\n",
    "labels = np.array(labels)\n",
    "\n",
    "# Normalize the image data (scale pixel values between 0 and 1)\n",
    "images = images / 255.0  # Normalize to [0, 1]\n",
    "\n",
    "print(f\"Number of images: {len(images)}\")\n",
    "print(f\"Shape of image data: {images.shape}\")"
   ]
  },
  {
   "cell_type": "code",
   "execution_count": 5,
   "id": "af8103e2-5fa2-47a8-b305-18b1fc2ee21a",
   "metadata": {},
   "outputs": [
    {
     "name": "stdout",
     "output_type": "stream",
     "text": [
      "Training data shape: (199, 64, 64, 3)\n",
      "Test data shape: (50, 64, 64, 3)\n"
     ]
    }
   ],
   "source": [
    "images = np.array(images)\n",
    "labels = np.array(labels)\n",
    "\n",
    "# Split the data into training and testing sets\n",
    "X_train, X_test, y_train, y_test = train_test_split(images, labels, test_size=0.2, random_state=42)\n",
    "\n",
    "# Print the shapes of the train and test sets\n",
    "print(f\"Training data shape: {X_train.shape}\")\n",
    "print(f\"Test data shape: {X_test.shape}\")\n"
   ]
  },
  {
   "cell_type": "code",
   "execution_count": 6,
   "id": "9900e11e-348d-41a3-b7e0-1a4dca9f1235",
   "metadata": {},
   "outputs": [],
   "source": [
    "# Build the CNN model\n",
    "model = models.Sequential()\n",
    "\n",
    "# Add convolutional layers, pooling layers, and fully connected layers\n",
    "model.add(layers.Conv2D(32, (3, 3), activation='relu', input_shape=(64, 64, 3)))\n",
    "model.add(layers.MaxPooling2D((2, 2)))\n",
    "model.add(layers.Conv2D(64, (3, 3), activation='relu'))\n",
    "model.add(layers.MaxPooling2D((2, 2)))\n",
    "model.add(layers.Conv2D(128, (3, 3), activation='relu'))\n",
    "model.add(layers.MaxPooling2D((2, 2)))\n",
    "\n"
   ]
  },
  {
   "cell_type": "code",
   "execution_count": 7,
   "id": "204e2388-88bd-4031-990b-5191a39440be",
   "metadata": {},
   "outputs": [],
   "source": [
    "# Flatten the 3D output to 1D vector\n",
    "model.add(layers.Flatten())\n",
    "\n",
    "# Add fully connected (dense) layers\n",
    "model.add(layers.Dense(128, activation='relu'))\n",
    "model.add(layers.Dense(len(class_names), activation='softmax'))  # Output layer for classification"
   ]
  },
  {
   "cell_type": "code",
   "execution_count": 8,
   "id": "ae3b7646-d69a-40c3-a9f9-a306cf1a35d6",
   "metadata": {},
   "outputs": [],
   "source": [
    "# Compile the model\n",
    "model.compile(optimizer='adam', loss='sparse_categorical_crossentropy', metrics=['accuracy'])\n",
    "\n"
   ]
  },
  {
   "cell_type": "code",
   "execution_count": 9,
   "id": "bc776b67-8527-44cd-a425-b6c94d159821",
   "metadata": {},
   "outputs": [
    {
     "name": "stdout",
     "output_type": "stream",
     "text": [
      "Model: \"sequential\"\n",
      "_________________________________________________________________\n",
      " Layer (type)                Output Shape              Param #   \n",
      "=================================================================\n",
      " conv2d (Conv2D)             (None, 62, 62, 32)        896       \n",
      "                                                                 \n",
      " max_pooling2d (MaxPooling2D  (None, 31, 31, 32)       0         \n",
      " )                                                               \n",
      "                                                                 \n",
      " conv2d_1 (Conv2D)           (None, 29, 29, 64)        18496     \n",
      "                                                                 \n",
      " max_pooling2d_1 (MaxPooling  (None, 14, 14, 64)       0         \n",
      " 2D)                                                             \n",
      "                                                                 \n",
      " conv2d_2 (Conv2D)           (None, 12, 12, 128)       73856     \n",
      "                                                                 \n",
      " max_pooling2d_2 (MaxPooling  (None, 6, 6, 128)        0         \n",
      " 2D)                                                             \n",
      "                                                                 \n",
      " flatten (Flatten)           (None, 4608)              0         \n",
      "                                                                 \n",
      " dense (Dense)               (None, 128)               589952    \n",
      "                                                                 \n",
      " dense_1 (Dense)             (None, 6)                 774       \n",
      "                                                                 \n",
      "=================================================================\n",
      "Total params: 683,974\n",
      "Trainable params: 683,974\n",
      "Non-trainable params: 0\n",
      "_________________________________________________________________\n"
     ]
    }
   ],
   "source": [
    "# Model summary to check the architecture\n",
    "model.summary()\n"
   ]
  },
  {
   "cell_type": "code",
   "execution_count": 10,
   "id": "f3e6915c-537f-46a8-bc04-9b91e99e24b9",
   "metadata": {},
   "outputs": [
    {
     "name": "stdout",
     "output_type": "stream",
     "text": [
      "Epoch 1/10\n",
      "7/7 [==============================] - 3s 184ms/step - loss: 1.7027 - accuracy: 0.1809 - val_loss: 1.5703 - val_accuracy: 0.4200\n",
      "Epoch 2/10\n",
      "7/7 [==============================] - 1s 101ms/step - loss: 1.5397 - accuracy: 0.3116 - val_loss: 1.4881 - val_accuracy: 0.4400\n",
      "Epoch 3/10\n",
      "7/7 [==============================] - 1s 99ms/step - loss: 1.4271 - accuracy: 0.4020 - val_loss: 1.4224 - val_accuracy: 0.3000\n",
      "Epoch 4/10\n",
      "7/7 [==============================] - 1s 107ms/step - loss: 1.3514 - accuracy: 0.3819 - val_loss: 1.4568 - val_accuracy: 0.3400\n",
      "Epoch 5/10\n",
      "7/7 [==============================] - 1s 102ms/step - loss: 1.2223 - accuracy: 0.4523 - val_loss: 1.3323 - val_accuracy: 0.3400\n",
      "Epoch 6/10\n",
      "7/7 [==============================] - 1s 115ms/step - loss: 1.1997 - accuracy: 0.5126 - val_loss: 1.3550 - val_accuracy: 0.4000\n",
      "Epoch 7/10\n",
      "7/7 [==============================] - 1s 103ms/step - loss: 1.0847 - accuracy: 0.5578 - val_loss: 1.3436 - val_accuracy: 0.4200\n",
      "Epoch 8/10\n",
      "7/7 [==============================] - 1s 111ms/step - loss: 1.0291 - accuracy: 0.5779 - val_loss: 1.3705 - val_accuracy: 0.3000\n",
      "Epoch 9/10\n",
      "7/7 [==============================] - 1s 103ms/step - loss: 0.9403 - accuracy: 0.6080 - val_loss: 1.3819 - val_accuracy: 0.4200\n",
      "Epoch 10/10\n",
      "7/7 [==============================] - 1s 105ms/step - loss: 0.8868 - accuracy: 0.6482 - val_loss: 1.4759 - val_accuracy: 0.4000\n"
     ]
    }
   ],
   "source": [
    "# Train the model\n",
    "history = model.fit(X_train, y_train, epochs=10, batch_size=32, validation_data=(X_test, y_test))\n"
   ]
  },
  {
   "cell_type": "code",
   "execution_count": 11,
   "id": "d05e2497-6082-477c-ba69-4d582873f2be",
   "metadata": {},
   "outputs": [
    {
     "name": "stdout",
     "output_type": "stream",
     "text": [
      "2/2 - 0s - loss: 1.4759 - accuracy: 0.4000 - 105ms/epoch - 53ms/step\n",
      "Test accuracy: 0.4000000059604645\n"
     ]
    }
   ],
   "source": [
    "# Evaluate the model on the test set\n",
    "test_loss, test_acc = model.evaluate(X_test, y_test, verbose=2)\n",
    "print(f\"Test accuracy: {test_acc}\")\n"
   ]
  },
  {
   "cell_type": "code",
   "execution_count": 12,
   "id": "a0ee3390-2987-4eaa-a28b-51502b6082f9",
   "metadata": {},
   "outputs": [
    {
     "name": "stdout",
     "output_type": "stream",
     "text": [
      "C:\\Users\\Saima Negi\\Downloads\\PROJECT\\jn\n"
     ]
    }
   ],
   "source": [
    "import os\n",
    "print(os.getcwd())  # Prints the current working directory\n"
   ]
  },
  {
   "cell_type": "code",
   "execution_count": 13,
   "id": "6d75b517-dc17-4ec7-bae9-df3a64f5bad3",
   "metadata": {},
   "outputs": [
    {
     "name": "stdout",
     "output_type": "stream",
     "text": [
      "1/1 [==============================] - 0s 312ms/step\n",
      "Predicted seed class: apple\n"
     ]
    }
   ],
   "source": [
    "# Load a new image for prediction (make sure it's in the same format as the training data)\n",
    "img_path = 'guessapple.jpeg'  \n",
    "img = cv2.imread(img_path)\n",
    "img = cv2.cvtColor(img, cv2.COLOR_BGR2RGB)\n",
    "img = cv2.resize(img, (64, 64))  # Resize to match the model input size\n",
    "img = img / 255.0  # Normalize the image\n",
    "img = np.expand_dims(img, axis=0)  # Add batch dimension (since model expects a batch of images)\n",
    "\n",
    "# Make a prediction\n",
    "predicted_class = model.predict(img)\n",
    "predicted_class_idx = np.argmax(predicted_class, axis=1)\n",
    "predicted_class_name = class_names[predicted_class_idx[0]]\n",
    "\n",
    "print(f\"Predicted seed class: {predicted_class_name}\")\n"
   ]
  },
  {
   "cell_type": "code",
   "execution_count": 17,
   "id": "7ca37036-137e-4fd6-822f-83679aa7178a",
   "metadata": {},
   "outputs": [
    {
     "data": {
      "image/png": "[encoded data removed]",
      "text/plain": [
       "<Figure size 1200x600 with 1 Axes>"
      ]
     },
     "metadata": {},
     "output_type": "display_data"
    }
   ],
   "source": [
    "# Plot training and validation accuracy and loss\n",
    "plt.figure(figsize=(12, 6))\n",
    "\n",
    "# Accuracy\n",
    "plt.subplot(1, 2, 1)\n",
    "plt.plot(history.history['accuracy'], label='Training accuracy')\n",
    "plt.plot(history.history['val_accuracy'], label='Validation accuracy')\n",
    "plt.title('Accuracy over epochs')\n",
    "plt.xlabel('Epochs')\n",
    "plt.ylabel('Accuracy')\n",
    "plt.legend()\n",
    "\n",
    "plt.show()\n"
   ]
  },
  {
   "cell_type": "code",
   "execution_count": null,
   "id": "a95091fc-9834-4bdc-a309-afab72674a41",
   "metadata": {},
   "outputs": [],
   "source": []
  }
 ],
 "metadata": {
  "kernelspec": {
   "display_name": "Python (tf_env)",
   "language": "python",
   "name": "tf_env"
  },
  "language_info": {
   "codemirror_mode": {
    "name": "ipython",
    "version": 3
   },
   "file_extension": ".py",
   "mimetype": "text/x-python",
   "name": "python",
   "nbconvert_exporter": "python",
   "pygments_lexer": "ipython3",
   "version": "3.8.18"
  }
 },
 "nbformat": 4,
 "nbformat_minor": 5
}
